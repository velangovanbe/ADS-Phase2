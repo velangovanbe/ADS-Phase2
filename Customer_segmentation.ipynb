{
  "cells": [
    {
      "cell_type": "markdown",
      "source": [
        "# **Customer Segmentation** \n",
        "Customer segmentation is the method of distributing a customer base into collections of people based on mutual characteristics so organizations can market to group efficiently and competently individually.\n",
        "\n",
        "The purpose of segmenting customers is to determine how to correlate to customers in multiple segments to maximize customer benefits. Perfectly done customer segmentation empowers marketers to interact with every customer in the best efficient approach."
      ],
      "metadata": {
        "id": "tjEEHT2d-lnE"
      },
      "id": "tjEEHT2d-lnE"
    },
    {
      "cell_type": "markdown",
      "source": [
        "The data includes the following features:\n",
        "\n",
        "1. Customer ID\n",
        "\n",
        "2. Customer Gender\n",
        "\n",
        "3. Customer Age\n",
        "\n",
        "4. Annual Income of the customer (in Thousand Dollars)\n",
        "\n",
        "5. Spending score of the customer (based on customer behaviour and spending nature)"
      ],
      "metadata": {
        "id": "0X-v2lEX-YEd"
      },
      "id": "0X-v2lEX-YEd"
    },
    {
      "cell_type": "code",
      "execution_count": 6,
      "id": "b84b8846",
      "metadata": {
        "id": "b84b8846"
      },
      "outputs": [],
      "source": [
        "import pandas as pd\n",
        "import numpy as np\n",
        "import matplotlib.pyplot as plt\n",
        "import seaborn as sns\n",
        "\n",
        "import warnings\n",
        "warnings.filterwarnings('ignore')"
      ]
    },
    {
      "cell_type": "code",
      "execution_count": 7,
      "id": "82447d3c",
      "metadata": {
        "id": "82447d3c"
      },
      "outputs": [],
      "source": [
        "df=pd.read_csv(\"/content/Mall_Customers.csv\")"
      ]
    },
    {
      "cell_type": "code",
      "execution_count": 8,
      "id": "dcc7d257",
      "metadata": {
        "colab": {
          "base_uri": "https://localhost:8080/",
          "height": 206
        },
        "id": "dcc7d257",
        "outputId": "62e451b8-1cff-427d-b759-857091e749a9"
      },
      "outputs": [
        {
          "output_type": "execute_result",
          "data": {
            "text/plain": [
              "   CustomerID  Gender  Age  Annual Income (k$)  Spending Score (1-100)\n",
              "0           1    Male   19                  15                      39\n",
              "1           2    Male   21                  15                      81\n",
              "2           3  Female   20                  16                       6\n",
              "3           4  Female   23                  16                      77\n",
              "4           5  Female   31                  17                      40"
            ],
            "text/html": [
              "\n",
              "  <div id=\"df-2439cf52-70bc-4b3e-bc92-f64164d08d30\">\n",
              "    <div class=\"colab-df-container\">\n",
              "      <div>\n",
              "<style scoped>\n",
              "    .dataframe tbody tr th:only-of-type {\n",
              "        vertical-align: middle;\n",
              "    }\n",
              "\n",
              "    .dataframe tbody tr th {\n",
              "        vertical-align: top;\n",
              "    }\n",
              "\n",
              "    .dataframe thead th {\n",
              "        text-align: right;\n",
              "    }\n",
              "</style>\n",
              "<table border=\"1\" class=\"dataframe\">\n",
              "  <thead>\n",
              "    <tr style=\"text-align: right;\">\n",
              "      <th></th>\n",
              "      <th>CustomerID</th>\n",
              "      <th>Gender</th>\n",
              "      <th>Age</th>\n",
              "      <th>Annual Income (k$)</th>\n",
              "      <th>Spending Score (1-100)</th>\n",
              "    </tr>\n",
              "  </thead>\n",
              "  <tbody>\n",
              "    <tr>\n",
              "      <th>0</th>\n",
              "      <td>1</td>\n",
              "      <td>Male</td>\n",
              "      <td>19</td>\n",
              "      <td>15</td>\n",
              "      <td>39</td>\n",
              "    </tr>\n",
              "    <tr>\n",
              "      <th>1</th>\n",
              "      <td>2</td>\n",
              "      <td>Male</td>\n",
              "      <td>21</td>\n",
              "      <td>15</td>\n",
              "      <td>81</td>\n",
              "    </tr>\n",
              "    <tr>\n",
              "      <th>2</th>\n",
              "      <td>3</td>\n",
              "      <td>Female</td>\n",
              "      <td>20</td>\n",
              "      <td>16</td>\n",
              "      <td>6</td>\n",
              "    </tr>\n",
              "    <tr>\n",
              "      <th>3</th>\n",
              "      <td>4</td>\n",
              "      <td>Female</td>\n",
              "      <td>23</td>\n",
              "      <td>16</td>\n",
              "      <td>77</td>\n",
              "    </tr>\n",
              "    <tr>\n",
              "      <th>4</th>\n",
              "      <td>5</td>\n",
              "      <td>Female</td>\n",
              "      <td>31</td>\n",
              "      <td>17</td>\n",
              "      <td>40</td>\n",
              "    </tr>\n",
              "  </tbody>\n",
              "</table>\n",
              "</div>\n",
              "      <button class=\"colab-df-convert\" onclick=\"convertToInteractive('df-2439cf52-70bc-4b3e-bc92-f64164d08d30')\"\n",
              "              title=\"Convert this dataframe to an interactive table.\"\n",
              "              style=\"display:none;\">\n",
              "        \n",
              "  <svg xmlns=\"http://www.w3.org/2000/svg\" height=\"24px\"viewBox=\"0 0 24 24\"\n",
              "       width=\"24px\">\n",
              "    <path d=\"M0 0h24v24H0V0z\" fill=\"none\"/>\n",
              "    <path d=\"M18.56 5.44l.94 2.06.94-2.06 2.06-.94-2.06-.94-.94-2.06-.94 2.06-2.06.94zm-11 1L8.5 8.5l.94-2.06 2.06-.94-2.06-.94L8.5 2.5l-.94 2.06-2.06.94zm10 10l.94 2.06.94-2.06 2.06-.94-2.06-.94-.94-2.06-.94 2.06-2.06.94z\"/><path d=\"M17.41 7.96l-1.37-1.37c-.4-.4-.92-.59-1.43-.59-.52 0-1.04.2-1.43.59L10.3 9.45l-7.72 7.72c-.78.78-.78 2.05 0 2.83L4 21.41c.39.39.9.59 1.41.59.51 0 1.02-.2 1.41-.59l7.78-7.78 2.81-2.81c.8-.78.8-2.07 0-2.86zM5.41 20L4 18.59l7.72-7.72 1.47 1.35L5.41 20z\"/>\n",
              "  </svg>\n",
              "      </button>\n",
              "      \n",
              "  <style>\n",
              "    .colab-df-container {\n",
              "      display:flex;\n",
              "      flex-wrap:wrap;\n",
              "      gap: 12px;\n",
              "    }\n",
              "\n",
              "    .colab-df-convert {\n",
              "      background-color: #E8F0FE;\n",
              "      border: none;\n",
              "      border-radius: 50%;\n",
              "      cursor: pointer;\n",
              "      display: none;\n",
              "      fill: #1967D2;\n",
              "      height: 32px;\n",
              "      padding: 0 0 0 0;\n",
              "      width: 32px;\n",
              "    }\n",
              "\n",
              "    .colab-df-convert:hover {\n",
              "      background-color: #E2EBFA;\n",
              "      box-shadow: 0px 1px 2px rgba(60, 64, 67, 0.3), 0px 1px 3px 1px rgba(60, 64, 67, 0.15);\n",
              "      fill: #174EA6;\n",
              "    }\n",
              "\n",
              "    [theme=dark] .colab-df-convert {\n",
              "      background-color: #3B4455;\n",
              "      fill: #D2E3FC;\n",
              "    }\n",
              "\n",
              "    [theme=dark] .colab-df-convert:hover {\n",
              "      background-color: #434B5C;\n",
              "      box-shadow: 0px 1px 3px 1px rgba(0, 0, 0, 0.15);\n",
              "      filter: drop-shadow(0px 1px 2px rgba(0, 0, 0, 0.3));\n",
              "      fill: #FFFFFF;\n",
              "    }\n",
              "  </style>\n",
              "\n",
              "      <script>\n",
              "        const buttonEl =\n",
              "          document.querySelector('#df-2439cf52-70bc-4b3e-bc92-f64164d08d30 button.colab-df-convert');\n",
              "        buttonEl.style.display =\n",
              "          google.colab.kernel.accessAllowed ? 'block' : 'none';\n",
              "\n",
              "        async function convertToInteractive(key) {\n",
              "          const element = document.querySelector('#df-2439cf52-70bc-4b3e-bc92-f64164d08d30');\n",
              "          const dataTable =\n",
              "            await google.colab.kernel.invokeFunction('convertToInteractive',\n",
              "                                                     [key], {});\n",
              "          if (!dataTable) return;\n",
              "\n",
              "          const docLinkHtml = 'Like what you see? Visit the ' +\n",
              "            '<a target=\"_blank\" href=https://colab.research.google.com/notebooks/data_table.ipynb>data table notebook</a>'\n",
              "            + ' to learn more about interactive tables.';\n",
              "          element.innerHTML = '';\n",
              "          dataTable['output_type'] = 'display_data';\n",
              "          await google.colab.output.renderOutput(dataTable, element);\n",
              "          const docLink = document.createElement('div');\n",
              "          docLink.innerHTML = docLinkHtml;\n",
              "          element.appendChild(docLink);\n",
              "        }\n",
              "      </script>\n",
              "    </div>\n",
              "  </div>\n",
              "  "
            ]
          },
          "metadata": {},
          "execution_count": 8
        }
      ],
      "source": [
        "df.head()\n"
      ]
    },
    {
      "cell_type": "code",
      "execution_count": 9,
      "id": "60a43ede",
      "metadata": {
        "colab": {
          "base_uri": "https://localhost:8080/"
        },
        "id": "60a43ede",
        "outputId": "06bd2ef6-00ad-4072-96f0-38ea4f39b24a"
      },
      "outputs": [
        {
          "output_type": "execute_result",
          "data": {
            "text/plain": [
              "(200, 5)"
            ]
          },
          "metadata": {},
          "execution_count": 9
        }
      ],
      "source": [
        "df.shape"
      ]
    },
    {
      "cell_type": "code",
      "execution_count": 10,
      "id": "a892b23d",
      "metadata": {
        "colab": {
          "base_uri": "https://localhost:8080/",
          "height": 300
        },
        "id": "a892b23d",
        "outputId": "a73e90d1-dbad-4323-9a75-a47d49fd6e9d"
      },
      "outputs": [
        {
          "output_type": "execute_result",
          "data": {
            "text/plain": [
              "       CustomerID         Age  Annual Income (k$)  Spending Score (1-100)\n",
              "count  200.000000  200.000000          200.000000              200.000000\n",
              "mean   100.500000   38.850000           60.560000               50.200000\n",
              "std     57.879185   13.969007           26.264721               25.823522\n",
              "min      1.000000   18.000000           15.000000                1.000000\n",
              "25%     50.750000   28.750000           41.500000               34.750000\n",
              "50%    100.500000   36.000000           61.500000               50.000000\n",
              "75%    150.250000   49.000000           78.000000               73.000000\n",
              "max    200.000000   70.000000          137.000000               99.000000"
            ],
            "text/html": [
              "\n",
              "  <div id=\"df-5a7f511a-ff16-45b4-a07f-3fca379455f2\">\n",
              "    <div class=\"colab-df-container\">\n",
              "      <div>\n",
              "<style scoped>\n",
              "    .dataframe tbody tr th:only-of-type {\n",
              "        vertical-align: middle;\n",
              "    }\n",
              "\n",
              "    .dataframe tbody tr th {\n",
              "        vertical-align: top;\n",
              "    }\n",
              "\n",
              "    .dataframe thead th {\n",
              "        text-align: right;\n",
              "    }\n",
              "</style>\n",
              "<table border=\"1\" class=\"dataframe\">\n",
              "  <thead>\n",
              "    <tr style=\"text-align: right;\">\n",
              "      <th></th>\n",
              "      <th>CustomerID</th>\n",
              "      <th>Age</th>\n",
              "      <th>Annual Income (k$)</th>\n",
              "      <th>Spending Score (1-100)</th>\n",
              "    </tr>\n",
              "  </thead>\n",
              "  <tbody>\n",
              "    <tr>\n",
              "      <th>count</th>\n",
              "      <td>200.000000</td>\n",
              "      <td>200.000000</td>\n",
              "      <td>200.000000</td>\n",
              "      <td>200.000000</td>\n",
              "    </tr>\n",
              "    <tr>\n",
              "      <th>mean</th>\n",
              "      <td>100.500000</td>\n",
              "      <td>38.850000</td>\n",
              "      <td>60.560000</td>\n",
              "      <td>50.200000</td>\n",
              "    </tr>\n",
              "    <tr>\n",
              "      <th>std</th>\n",
              "      <td>57.879185</td>\n",
              "      <td>13.969007</td>\n",
              "      <td>26.264721</td>\n",
              "      <td>25.823522</td>\n",
              "    </tr>\n",
              "    <tr>\n",
              "      <th>min</th>\n",
              "      <td>1.000000</td>\n",
              "      <td>18.000000</td>\n",
              "      <td>15.000000</td>\n",
              "      <td>1.000000</td>\n",
              "    </tr>\n",
              "    <tr>\n",
              "      <th>25%</th>\n",
              "      <td>50.750000</td>\n",
              "      <td>28.750000</td>\n",
              "      <td>41.500000</td>\n",
              "      <td>34.750000</td>\n",
              "    </tr>\n",
              "    <tr>\n",
              "      <th>50%</th>\n",
              "      <td>100.500000</td>\n",
              "      <td>36.000000</td>\n",
              "      <td>61.500000</td>\n",
              "      <td>50.000000</td>\n",
              "    </tr>\n",
              "    <tr>\n",
              "      <th>75%</th>\n",
              "      <td>150.250000</td>\n",
              "      <td>49.000000</td>\n",
              "      <td>78.000000</td>\n",
              "      <td>73.000000</td>\n",
              "    </tr>\n",
              "    <tr>\n",
              "      <th>max</th>\n",
              "      <td>200.000000</td>\n",
              "      <td>70.000000</td>\n",
              "      <td>137.000000</td>\n",
              "      <td>99.000000</td>\n",
              "    </tr>\n",
              "  </tbody>\n",
              "</table>\n",
              "</div>\n",
              "      <button class=\"colab-df-convert\" onclick=\"convertToInteractive('df-5a7f511a-ff16-45b4-a07f-3fca379455f2')\"\n",
              "              title=\"Convert this dataframe to an interactive table.\"\n",
              "              style=\"display:none;\">\n",
              "        \n",
              "  <svg xmlns=\"http://www.w3.org/2000/svg\" height=\"24px\"viewBox=\"0 0 24 24\"\n",
              "       width=\"24px\">\n",
              "    <path d=\"M0 0h24v24H0V0z\" fill=\"none\"/>\n",
              "    <path d=\"M18.56 5.44l.94 2.06.94-2.06 2.06-.94-2.06-.94-.94-2.06-.94 2.06-2.06.94zm-11 1L8.5 8.5l.94-2.06 2.06-.94-2.06-.94L8.5 2.5l-.94 2.06-2.06.94zm10 10l.94 2.06.94-2.06 2.06-.94-2.06-.94-.94-2.06-.94 2.06-2.06.94z\"/><path d=\"M17.41 7.96l-1.37-1.37c-.4-.4-.92-.59-1.43-.59-.52 0-1.04.2-1.43.59L10.3 9.45l-7.72 7.72c-.78.78-.78 2.05 0 2.83L4 21.41c.39.39.9.59 1.41.59.51 0 1.02-.2 1.41-.59l7.78-7.78 2.81-2.81c.8-.78.8-2.07 0-2.86zM5.41 20L4 18.59l7.72-7.72 1.47 1.35L5.41 20z\"/>\n",
              "  </svg>\n",
              "      </button>\n",
              "      \n",
              "  <style>\n",
              "    .colab-df-container {\n",
              "      display:flex;\n",
              "      flex-wrap:wrap;\n",
              "      gap: 12px;\n",
              "    }\n",
              "\n",
              "    .colab-df-convert {\n",
              "      background-color: #E8F0FE;\n",
              "      border: none;\n",
              "      border-radius: 50%;\n",
              "      cursor: pointer;\n",
              "      display: none;\n",
              "      fill: #1967D2;\n",
              "      height: 32px;\n",
              "      padding: 0 0 0 0;\n",
              "      width: 32px;\n",
              "    }\n",
              "\n",
              "    .colab-df-convert:hover {\n",
              "      background-color: #E2EBFA;\n",
              "      box-shadow: 0px 1px 2px rgba(60, 64, 67, 0.3), 0px 1px 3px 1px rgba(60, 64, 67, 0.15);\n",
              "      fill: #174EA6;\n",
              "    }\n",
              "\n",
              "    [theme=dark] .colab-df-convert {\n",
              "      background-color: #3B4455;\n",
              "      fill: #D2E3FC;\n",
              "    }\n",
              "\n",
              "    [theme=dark] .colab-df-convert:hover {\n",
              "      background-color: #434B5C;\n",
              "      box-shadow: 0px 1px 3px 1px rgba(0, 0, 0, 0.15);\n",
              "      filter: drop-shadow(0px 1px 2px rgba(0, 0, 0, 0.3));\n",
              "      fill: #FFFFFF;\n",
              "    }\n",
              "  </style>\n",
              "\n",
              "      <script>\n",
              "        const buttonEl =\n",
              "          document.querySelector('#df-5a7f511a-ff16-45b4-a07f-3fca379455f2 button.colab-df-convert');\n",
              "        buttonEl.style.display =\n",
              "          google.colab.kernel.accessAllowed ? 'block' : 'none';\n",
              "\n",
              "        async function convertToInteractive(key) {\n",
              "          const element = document.querySelector('#df-5a7f511a-ff16-45b4-a07f-3fca379455f2');\n",
              "          const dataTable =\n",
              "            await google.colab.kernel.invokeFunction('convertToInteractive',\n",
              "                                                     [key], {});\n",
              "          if (!dataTable) return;\n",
              "\n",
              "          const docLinkHtml = 'Like what you see? Visit the ' +\n",
              "            '<a target=\"_blank\" href=https://colab.research.google.com/notebooks/data_table.ipynb>data table notebook</a>'\n",
              "            + ' to learn more about interactive tables.';\n",
              "          element.innerHTML = '';\n",
              "          dataTable['output_type'] = 'display_data';\n",
              "          await google.colab.output.renderOutput(dataTable, element);\n",
              "          const docLink = document.createElement('div');\n",
              "          docLink.innerHTML = docLinkHtml;\n",
              "          element.appendChild(docLink);\n",
              "        }\n",
              "      </script>\n",
              "    </div>\n",
              "  </div>\n",
              "  "
            ]
          },
          "metadata": {},
          "execution_count": 10
        }
      ],
      "source": [
        "df.describe()"
      ]
    },
    {
      "cell_type": "code",
      "source": [
        "df.info()"
      ],
      "metadata": {
        "colab": {
          "base_uri": "https://localhost:8080/"
        },
        "id": "XWuixSv19uGR",
        "outputId": "677bc858-64f6-4d94-a3ce-415d9bbdca0d"
      },
      "id": "XWuixSv19uGR",
      "execution_count": 11,
      "outputs": [
        {
          "output_type": "stream",
          "name": "stdout",
          "text": [
            "<class 'pandas.core.frame.DataFrame'>\n",
            "RangeIndex: 200 entries, 0 to 199\n",
            "Data columns (total 5 columns):\n",
            " #   Column                  Non-Null Count  Dtype \n",
            "---  ------                  --------------  ----- \n",
            " 0   CustomerID              200 non-null    int64 \n",
            " 1   Gender                  200 non-null    object\n",
            " 2   Age                     200 non-null    int64 \n",
            " 3   Annual Income (k$)      200 non-null    int64 \n",
            " 4   Spending Score (1-100)  200 non-null    int64 \n",
            "dtypes: int64(4), object(1)\n",
            "memory usage: 7.9+ KB\n"
          ]
        }
      ]
    },
    {
      "cell_type": "code",
      "execution_count": null,
      "id": "aa4fecc1",
      "metadata": {
        "id": "aa4fecc1",
        "outputId": "4b97be53-0d0a-464f-9e5d-b422efd8226f"
      },
      "outputs": [
        {
          "data": {
            "text/plain": [
              "count        200\n",
              "unique         2\n",
              "top       Female\n",
              "freq         112\n",
              "Name: Gender, dtype: object"
            ]
          },
          "execution_count": 7,
          "metadata": {},
          "output_type": "execute_result"
        }
      ],
      "source": [
        "df['Gender'].describe()"
      ]
    },
    {
      "cell_type": "code",
      "source": [
        "plt.figure(figsize=(8,7))\n",
        "sns.countplot(df[\"Gender\"])\n",
        "plt.xlabel(\"Gender\",fontsize = 15)\n",
        "plt.show()"
      ],
      "metadata": {
        "colab": {
          "base_uri": "https://localhost:8080/",
          "height": 447
        },
        "id": "pj36amhC-4nK",
        "outputId": "21011acb-36b3-4a83-b822-330154c09c43"
      },
      "id": "pj36amhC-4nK",
      "execution_count": 17,
      "outputs": [
        {
          "output_type": "display_data",
          "data": {
            "text/plain": [
              "<Figure size 576x504 with 1 Axes>"
            ],
            "image/png": "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\n"
          },
          "metadata": {
            "needs_background": "light"
          }
        }
      ]
    },
    {
      "cell_type": "code",
      "source": [
        "plt.figure(figsize=(10,8))\n",
        "sns.distplot(df[\"Age\"],color = \"Green\")\n",
        "plt.xlabel(\"Age\",fontsize = 15)\n",
        "plt.show()"
      ],
      "metadata": {
        "colab": {
          "base_uri": "https://localhost:8080/",
          "height": 502
        },
        "id": "xNlvZzAK_s0v",
        "outputId": "e140254f-e9e4-4122-fb4d-f0fd13f6b597"
      },
      "id": "xNlvZzAK_s0v",
      "execution_count": 51,
      "outputs": [
        {
          "output_type": "display_data",
          "data": {
            "text/plain": [
              "<Figure size 720x576 with 1 Axes>"
            ],
            "image/png": "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\n"
          },
          "metadata": {
            "needs_background": "light"
          }
        }
      ]
    },
    {
      "cell_type": "code",
      "source": [
        "plt.figure(figsize=(18,7))\n",
        "sns.countplot(df[\"Age\"])\n",
        "plt.show()"
      ],
      "metadata": {
        "colab": {
          "base_uri": "https://localhost:8080/",
          "height": 442
        },
        "id": "aA6vI7dCBMog",
        "outputId": "3e3ea716-5cd7-4820-9d37-4deea1958ad0"
      },
      "id": "aA6vI7dCBMog",
      "execution_count": 30,
      "outputs": [
        {
          "output_type": "display_data",
          "data": {
            "text/plain": [
              "<Figure size 1296x504 with 1 Axes>"
            ],
            "image/png": "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\n"
          },
          "metadata": {
            "needs_background": "light"
          }
        }
      ]
    },
    {
      "cell_type": "code",
      "source": [
        "plt.figure(figsize=(20,7))\n",
        "sns.countplot(data=df,\n",
        "              x = \"Age\",\n",
        "              hue = \"Gender\")\n",
        "plt.xlabel(\"Sex\",fontsize = 15)\n",
        "plt.show()"
      ],
      "metadata": {
        "colab": {
          "base_uri": "https://localhost:8080/",
          "height": 447
        },
        "id": "dVDgjBOd_gYW",
        "outputId": "4f30af94-3add-434e-c901-c034d1bb3c92"
      },
      "id": "dVDgjBOd_gYW",
      "execution_count": 19,
      "outputs": [
        {
          "output_type": "display_data",
          "data": {
            "text/plain": [
              "<Figure size 1440x504 with 1 Axes>"
            ],
            "image/png": "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\n"
          },
          "metadata": {
            "needs_background": "light"
          }
        }
      ]
    },
    {
      "cell_type": "code",
      "source": [
        "df.head(2)"
      ],
      "metadata": {
        "colab": {
          "base_uri": "https://localhost:8080/",
          "height": 81
        },
        "id": "woCLkcjeANcg",
        "outputId": "b60a435e-676d-4f56-d6c1-a840190658d6"
      },
      "id": "woCLkcjeANcg",
      "execution_count": 24,
      "outputs": [
        {
          "output_type": "execute_result",
          "data": {
            "text/plain": [
              "  Gender  Age  Annual Income (k$)  Spending Score (1-100)\n",
              "0   Male   19                  15                      39"
            ],
            "text/html": [
              "\n",
              "  <div id=\"df-5a1b95ac-2e71-4a8a-94e0-c8cb462ee1eb\">\n",
              "    <div class=\"colab-df-container\">\n",
              "      <div>\n",
              "<style scoped>\n",
              "    .dataframe tbody tr th:only-of-type {\n",
              "        vertical-align: middle;\n",
              "    }\n",
              "\n",
              "    .dataframe tbody tr th {\n",
              "        vertical-align: top;\n",
              "    }\n",
              "\n",
              "    .dataframe thead th {\n",
              "        text-align: right;\n",
              "    }\n",
              "</style>\n",
              "<table border=\"1\" class=\"dataframe\">\n",
              "  <thead>\n",
              "    <tr style=\"text-align: right;\">\n",
              "      <th></th>\n",
              "      <th>Gender</th>\n",
              "      <th>Age</th>\n",
              "      <th>Annual Income (k$)</th>\n",
              "      <th>Spending Score (1-100)</th>\n",
              "    </tr>\n",
              "  </thead>\n",
              "  <tbody>\n",
              "    <tr>\n",
              "      <th>0</th>\n",
              "      <td>Male</td>\n",
              "      <td>19</td>\n",
              "      <td>15</td>\n",
              "      <td>39</td>\n",
              "    </tr>\n",
              "  </tbody>\n",
              "</table>\n",
              "</div>\n",
              "      <button class=\"colab-df-convert\" onclick=\"convertToInteractive('df-5a1b95ac-2e71-4a8a-94e0-c8cb462ee1eb')\"\n",
              "              title=\"Convert this dataframe to an interactive table.\"\n",
              "              style=\"display:none;\">\n",
              "        \n",
              "  <svg xmlns=\"http://www.w3.org/2000/svg\" height=\"24px\"viewBox=\"0 0 24 24\"\n",
              "       width=\"24px\">\n",
              "    <path d=\"M0 0h24v24H0V0z\" fill=\"none\"/>\n",
              "    <path d=\"M18.56 5.44l.94 2.06.94-2.06 2.06-.94-2.06-.94-.94-2.06-.94 2.06-2.06.94zm-11 1L8.5 8.5l.94-2.06 2.06-.94-2.06-.94L8.5 2.5l-.94 2.06-2.06.94zm10 10l.94 2.06.94-2.06 2.06-.94-2.06-.94-.94-2.06-.94 2.06-2.06.94z\"/><path d=\"M17.41 7.96l-1.37-1.37c-.4-.4-.92-.59-1.43-.59-.52 0-1.04.2-1.43.59L10.3 9.45l-7.72 7.72c-.78.78-.78 2.05 0 2.83L4 21.41c.39.39.9.59 1.41.59.51 0 1.02-.2 1.41-.59l7.78-7.78 2.81-2.81c.8-.78.8-2.07 0-2.86zM5.41 20L4 18.59l7.72-7.72 1.47 1.35L5.41 20z\"/>\n",
              "  </svg>\n",
              "      </button>\n",
              "      \n",
              "  <style>\n",
              "    .colab-df-container {\n",
              "      display:flex;\n",
              "      flex-wrap:wrap;\n",
              "      gap: 12px;\n",
              "    }\n",
              "\n",
              "    .colab-df-convert {\n",
              "      background-color: #E8F0FE;\n",
              "      border: none;\n",
              "      border-radius: 50%;\n",
              "      cursor: pointer;\n",
              "      display: none;\n",
              "      fill: #1967D2;\n",
              "      height: 32px;\n",
              "      padding: 0 0 0 0;\n",
              "      width: 32px;\n",
              "    }\n",
              "\n",
              "    .colab-df-convert:hover {\n",
              "      background-color: #E2EBFA;\n",
              "      box-shadow: 0px 1px 2px rgba(60, 64, 67, 0.3), 0px 1px 3px 1px rgba(60, 64, 67, 0.15);\n",
              "      fill: #174EA6;\n",
              "    }\n",
              "\n",
              "    [theme=dark] .colab-df-convert {\n",
              "      background-color: #3B4455;\n",
              "      fill: #D2E3FC;\n",
              "    }\n",
              "\n",
              "    [theme=dark] .colab-df-convert:hover {\n",
              "      background-color: #434B5C;\n",
              "      box-shadow: 0px 1px 3px 1px rgba(0, 0, 0, 0.15);\n",
              "      filter: drop-shadow(0px 1px 2px rgba(0, 0, 0, 0.3));\n",
              "      fill: #FFFFFF;\n",
              "    }\n",
              "  </style>\n",
              "\n",
              "      <script>\n",
              "        const buttonEl =\n",
              "          document.querySelector('#df-5a1b95ac-2e71-4a8a-94e0-c8cb462ee1eb button.colab-df-convert');\n",
              "        buttonEl.style.display =\n",
              "          google.colab.kernel.accessAllowed ? 'block' : 'none';\n",
              "\n",
              "        async function convertToInteractive(key) {\n",
              "          const element = document.querySelector('#df-5a1b95ac-2e71-4a8a-94e0-c8cb462ee1eb');\n",
              "          const dataTable =\n",
              "            await google.colab.kernel.invokeFunction('convertToInteractive',\n",
              "                                                     [key], {});\n",
              "          if (!dataTable) return;\n",
              "\n",
              "          const docLinkHtml = 'Like what you see? Visit the ' +\n",
              "            '<a target=\"_blank\" href=https://colab.research.google.com/notebooks/data_table.ipynb>data table notebook</a>'\n",
              "            + ' to learn more about interactive tables.';\n",
              "          element.innerHTML = '';\n",
              "          dataTable['output_type'] = 'display_data';\n",
              "          await google.colab.output.renderOutput(dataTable, element);\n",
              "          const docLink = document.createElement('div');\n",
              "          docLink.innerHTML = docLinkHtml;\n",
              "          element.appendChild(docLink);\n",
              "        }\n",
              "      </script>\n",
              "    </div>\n",
              "  </div>\n",
              "  "
            ]
          },
          "metadata": {},
          "execution_count": 24
        }
      ]
    },
    {
      "cell_type": "code",
      "source": [
        "# drop the CustomerID Column not required\n",
        "df.drop(columns = [\"CustomerID\"],axis=1,inplace = True)"
      ],
      "metadata": {
        "id": "bI_1Fx1vAQlL"
      },
      "id": "bI_1Fx1vAQlL",
      "execution_count": 23,
      "outputs": []
    },
    {
      "cell_type": "code",
      "source": [
        "df.head(2)"
      ],
      "metadata": {
        "colab": {
          "base_uri": "https://localhost:8080/",
          "height": 112
        },
        "id": "IEH3kwwvCdZL",
        "outputId": "5a972919-f6ef-4abc-c42c-92f844f8b2b9"
      },
      "id": "IEH3kwwvCdZL",
      "execution_count": 37,
      "outputs": [
        {
          "output_type": "execute_result",
          "data": {
            "text/plain": [
              "  Gender  Age  Annual Income (k$)  Spending Score (1-100)\n",
              "0   Male   19                  15                      39\n",
              "1   Male   21                  15                      81"
            ],
            "text/html": [
              "\n",
              "  <div id=\"df-42a1daf6-78e0-4ec3-ace7-135ffe2edff6\">\n",
              "    <div class=\"colab-df-container\">\n",
              "      <div>\n",
              "<style scoped>\n",
              "    .dataframe tbody tr th:only-of-type {\n",
              "        vertical-align: middle;\n",
              "    }\n",
              "\n",
              "    .dataframe tbody tr th {\n",
              "        vertical-align: top;\n",
              "    }\n",
              "\n",
              "    .dataframe thead th {\n",
              "        text-align: right;\n",
              "    }\n",
              "</style>\n",
              "<table border=\"1\" class=\"dataframe\">\n",
              "  <thead>\n",
              "    <tr style=\"text-align: right;\">\n",
              "      <th></th>\n",
              "      <th>Gender</th>\n",
              "      <th>Age</th>\n",
              "      <th>Annual Income (k$)</th>\n",
              "      <th>Spending Score (1-100)</th>\n",
              "    </tr>\n",
              "  </thead>\n",
              "  <tbody>\n",
              "    <tr>\n",
              "      <th>0</th>\n",
              "      <td>Male</td>\n",
              "      <td>19</td>\n",
              "      <td>15</td>\n",
              "      <td>39</td>\n",
              "    </tr>\n",
              "    <tr>\n",
              "      <th>1</th>\n",
              "      <td>Male</td>\n",
              "      <td>21</td>\n",
              "      <td>15</td>\n",
              "      <td>81</td>\n",
              "    </tr>\n",
              "  </tbody>\n",
              "</table>\n",
              "</div>\n",
              "      <button class=\"colab-df-convert\" onclick=\"convertToInteractive('df-42a1daf6-78e0-4ec3-ace7-135ffe2edff6')\"\n",
              "              title=\"Convert this dataframe to an interactive table.\"\n",
              "              style=\"display:none;\">\n",
              "        \n",
              "  <svg xmlns=\"http://www.w3.org/2000/svg\" height=\"24px\"viewBox=\"0 0 24 24\"\n",
              "       width=\"24px\">\n",
              "    <path d=\"M0 0h24v24H0V0z\" fill=\"none\"/>\n",
              "    <path d=\"M18.56 5.44l.94 2.06.94-2.06 2.06-.94-2.06-.94-.94-2.06-.94 2.06-2.06.94zm-11 1L8.5 8.5l.94-2.06 2.06-.94-2.06-.94L8.5 2.5l-.94 2.06-2.06.94zm10 10l.94 2.06.94-2.06 2.06-.94-2.06-.94-.94-2.06-.94 2.06-2.06.94z\"/><path d=\"M17.41 7.96l-1.37-1.37c-.4-.4-.92-.59-1.43-.59-.52 0-1.04.2-1.43.59L10.3 9.45l-7.72 7.72c-.78.78-.78 2.05 0 2.83L4 21.41c.39.39.9.59 1.41.59.51 0 1.02-.2 1.41-.59l7.78-7.78 2.81-2.81c.8-.78.8-2.07 0-2.86zM5.41 20L4 18.59l7.72-7.72 1.47 1.35L5.41 20z\"/>\n",
              "  </svg>\n",
              "      </button>\n",
              "      \n",
              "  <style>\n",
              "    .colab-df-container {\n",
              "      display:flex;\n",
              "      flex-wrap:wrap;\n",
              "      gap: 12px;\n",
              "    }\n",
              "\n",
              "    .colab-df-convert {\n",
              "      background-color: #E8F0FE;\n",
              "      border: none;\n",
              "      border-radius: 50%;\n",
              "      cursor: pointer;\n",
              "      display: none;\n",
              "      fill: #1967D2;\n",
              "      height: 32px;\n",
              "      padding: 0 0 0 0;\n",
              "      width: 32px;\n",
              "    }\n",
              "\n",
              "    .colab-df-convert:hover {\n",
              "      background-color: #E2EBFA;\n",
              "      box-shadow: 0px 1px 2px rgba(60, 64, 67, 0.3), 0px 1px 3px 1px rgba(60, 64, 67, 0.15);\n",
              "      fill: #174EA6;\n",
              "    }\n",
              "\n",
              "    [theme=dark] .colab-df-convert {\n",
              "      background-color: #3B4455;\n",
              "      fill: #D2E3FC;\n",
              "    }\n",
              "\n",
              "    [theme=dark] .colab-df-convert:hover {\n",
              "      background-color: #434B5C;\n",
              "      box-shadow: 0px 1px 3px 1px rgba(0, 0, 0, 0.15);\n",
              "      filter: drop-shadow(0px 1px 2px rgba(0, 0, 0, 0.3));\n",
              "      fill: #FFFFFF;\n",
              "    }\n",
              "  </style>\n",
              "\n",
              "      <script>\n",
              "        const buttonEl =\n",
              "          document.querySelector('#df-42a1daf6-78e0-4ec3-ace7-135ffe2edff6 button.colab-df-convert');\n",
              "        buttonEl.style.display =\n",
              "          google.colab.kernel.accessAllowed ? 'block' : 'none';\n",
              "\n",
              "        async function convertToInteractive(key) {\n",
              "          const element = document.querySelector('#df-42a1daf6-78e0-4ec3-ace7-135ffe2edff6');\n",
              "          const dataTable =\n",
              "            await google.colab.kernel.invokeFunction('convertToInteractive',\n",
              "                                                     [key], {});\n",
              "          if (!dataTable) return;\n",
              "\n",
              "          const docLinkHtml = 'Like what you see? Visit the ' +\n",
              "            '<a target=\"_blank\" href=https://colab.research.google.com/notebooks/data_table.ipynb>data table notebook</a>'\n",
              "            + ' to learn more about interactive tables.';\n",
              "          element.innerHTML = '';\n",
              "          dataTable['output_type'] = 'display_data';\n",
              "          await google.colab.output.renderOutput(dataTable, element);\n",
              "          const docLink = document.createElement('div');\n",
              "          docLink.innerHTML = docLinkHtml;\n",
              "          element.appendChild(docLink);\n",
              "        }\n",
              "      </script>\n",
              "    </div>\n",
              "  </div>\n",
              "  "
            ]
          },
          "metadata": {},
          "execution_count": 37
        }
      ]
    },
    {
      "cell_type": "code",
      "source": [
        "plt.figure(figsize=(30,7))\n",
        "plotnumber = 1\n",
        "\n",
        "for column in df.iloc[:,1:]:\n",
        "  if plotnumber <= 8:\n",
        "    ax = plt.subplot(1,4,plotnumber)\n",
        "    sns.distplot(df[column],color = \"green\")\n",
        "    plt.xlabel(column)\n",
        "  plotnumber+=1\n",
        "plt.show()"
      ],
      "metadata": {
        "colab": {
          "base_uri": "https://localhost:8080/",
          "height": 446
        },
        "id": "YGjQn79cAJ4H",
        "outputId": "108e9691-be72-4295-eec3-e0b6fb6e7d23"
      },
      "id": "YGjQn79cAJ4H",
      "execution_count": 52,
      "outputs": [
        {
          "output_type": "display_data",
          "data": {
            "text/plain": [
              "<Figure size 2160x504 with 3 Axes>"
            ],
            "image/png": "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\n"
          },
          "metadata": {
            "needs_background": "light"
          }
        }
      ]
    },
    {
      "cell_type": "code",
      "execution_count": 38,
      "id": "a0a96781",
      "metadata": {
        "colab": {
          "base_uri": "https://localhost:8080/"
        },
        "id": "a0a96781",
        "outputId": "758d2e99-3cae-45d9-8418-d3aec7fcc8ba"
      },
      "outputs": [
        {
          "output_type": "execute_result",
          "data": {
            "text/plain": [
              "59.25"
            ]
          },
          "metadata": {},
          "execution_count": 38
        }
      ],
      "source": [
        "df['Annual Income (k$)'].loc[df['Gender']=='Female'].mean()"
      ]
    },
    {
      "cell_type": "code",
      "execution_count": 39,
      "id": "2b5852be",
      "metadata": {
        "colab": {
          "base_uri": "https://localhost:8080/"
        },
        "id": "2b5852be",
        "outputId": "6a9ea6cc-f879-4d95-d6b3-204e5214531a"
      },
      "outputs": [
        {
          "output_type": "execute_result",
          "data": {
            "text/plain": [
              "62.22727272727273"
            ]
          },
          "metadata": {},
          "execution_count": 39
        }
      ],
      "source": [
        "df['Annual Income (k$)'].loc[df['Gender']=='Male'].mean()"
      ]
    },
    {
      "cell_type": "code",
      "execution_count": 40,
      "id": "58008dbe",
      "metadata": {
        "colab": {
          "base_uri": "https://localhost:8080/",
          "height": 143
        },
        "id": "58008dbe",
        "outputId": "e1b271bd-51e7-4c89-95de-72c1cfaea7ab"
      },
      "outputs": [
        {
          "output_type": "execute_result",
          "data": {
            "text/plain": [
              "              Age  Annual Income (k$)  Spending Score (1-100)\n",
              "Gender                                                       \n",
              "Female  38.098214           59.250000               51.526786\n",
              "Male    39.806818           62.227273               48.511364"
            ],
            "text/html": [
              "\n",
              "  <div id=\"df-dfee1585-6547-4921-a19a-827ef524fcda\">\n",
              "    <div class=\"colab-df-container\">\n",
              "      <div>\n",
              "<style scoped>\n",
              "    .dataframe tbody tr th:only-of-type {\n",
              "        vertical-align: middle;\n",
              "    }\n",
              "\n",
              "    .dataframe tbody tr th {\n",
              "        vertical-align: top;\n",
              "    }\n",
              "\n",
              "    .dataframe thead th {\n",
              "        text-align: right;\n",
              "    }\n",
              "</style>\n",
              "<table border=\"1\" class=\"dataframe\">\n",
              "  <thead>\n",
              "    <tr style=\"text-align: right;\">\n",
              "      <th></th>\n",
              "      <th>Age</th>\n",
              "      <th>Annual Income (k$)</th>\n",
              "      <th>Spending Score (1-100)</th>\n",
              "    </tr>\n",
              "    <tr>\n",
              "      <th>Gender</th>\n",
              "      <th></th>\n",
              "      <th></th>\n",
              "      <th></th>\n",
              "    </tr>\n",
              "  </thead>\n",
              "  <tbody>\n",
              "    <tr>\n",
              "      <th>Female</th>\n",
              "      <td>38.098214</td>\n",
              "      <td>59.250000</td>\n",
              "      <td>51.526786</td>\n",
              "    </tr>\n",
              "    <tr>\n",
              "      <th>Male</th>\n",
              "      <td>39.806818</td>\n",
              "      <td>62.227273</td>\n",
              "      <td>48.511364</td>\n",
              "    </tr>\n",
              "  </tbody>\n",
              "</table>\n",
              "</div>\n",
              "      <button class=\"colab-df-convert\" onclick=\"convertToInteractive('df-dfee1585-6547-4921-a19a-827ef524fcda')\"\n",
              "              title=\"Convert this dataframe to an interactive table.\"\n",
              "              style=\"display:none;\">\n",
              "        \n",
              "  <svg xmlns=\"http://www.w3.org/2000/svg\" height=\"24px\"viewBox=\"0 0 24 24\"\n",
              "       width=\"24px\">\n",
              "    <path d=\"M0 0h24v24H0V0z\" fill=\"none\"/>\n",
              "    <path d=\"M18.56 5.44l.94 2.06.94-2.06 2.06-.94-2.06-.94-.94-2.06-.94 2.06-2.06.94zm-11 1L8.5 8.5l.94-2.06 2.06-.94-2.06-.94L8.5 2.5l-.94 2.06-2.06.94zm10 10l.94 2.06.94-2.06 2.06-.94-2.06-.94-.94-2.06-.94 2.06-2.06.94z\"/><path d=\"M17.41 7.96l-1.37-1.37c-.4-.4-.92-.59-1.43-.59-.52 0-1.04.2-1.43.59L10.3 9.45l-7.72 7.72c-.78.78-.78 2.05 0 2.83L4 21.41c.39.39.9.59 1.41.59.51 0 1.02-.2 1.41-.59l7.78-7.78 2.81-2.81c.8-.78.8-2.07 0-2.86zM5.41 20L4 18.59l7.72-7.72 1.47 1.35L5.41 20z\"/>\n",
              "  </svg>\n",
              "      </button>\n",
              "      \n",
              "  <style>\n",
              "    .colab-df-container {\n",
              "      display:flex;\n",
              "      flex-wrap:wrap;\n",
              "      gap: 12px;\n",
              "    }\n",
              "\n",
              "    .colab-df-convert {\n",
              "      background-color: #E8F0FE;\n",
              "      border: none;\n",
              "      border-radius: 50%;\n",
              "      cursor: pointer;\n",
              "      display: none;\n",
              "      fill: #1967D2;\n",
              "      height: 32px;\n",
              "      padding: 0 0 0 0;\n",
              "      width: 32px;\n",
              "    }\n",
              "\n",
              "    .colab-df-convert:hover {\n",
              "      background-color: #E2EBFA;\n",
              "      box-shadow: 0px 1px 2px rgba(60, 64, 67, 0.3), 0px 1px 3px 1px rgba(60, 64, 67, 0.15);\n",
              "      fill: #174EA6;\n",
              "    }\n",
              "\n",
              "    [theme=dark] .colab-df-convert {\n",
              "      background-color: #3B4455;\n",
              "      fill: #D2E3FC;\n",
              "    }\n",
              "\n",
              "    [theme=dark] .colab-df-convert:hover {\n",
              "      background-color: #434B5C;\n",
              "      box-shadow: 0px 1px 3px 1px rgba(0, 0, 0, 0.15);\n",
              "      filter: drop-shadow(0px 1px 2px rgba(0, 0, 0, 0.3));\n",
              "      fill: #FFFFFF;\n",
              "    }\n",
              "  </style>\n",
              "\n",
              "      <script>\n",
              "        const buttonEl =\n",
              "          document.querySelector('#df-dfee1585-6547-4921-a19a-827ef524fcda button.colab-df-convert');\n",
              "        buttonEl.style.display =\n",
              "          google.colab.kernel.accessAllowed ? 'block' : 'none';\n",
              "\n",
              "        async function convertToInteractive(key) {\n",
              "          const element = document.querySelector('#df-dfee1585-6547-4921-a19a-827ef524fcda');\n",
              "          const dataTable =\n",
              "            await google.colab.kernel.invokeFunction('convertToInteractive',\n",
              "                                                     [key], {});\n",
              "          if (!dataTable) return;\n",
              "\n",
              "          const docLinkHtml = 'Like what you see? Visit the ' +\n",
              "            '<a target=\"_blank\" href=https://colab.research.google.com/notebooks/data_table.ipynb>data table notebook</a>'\n",
              "            + ' to learn more about interactive tables.';\n",
              "          element.innerHTML = '';\n",
              "          dataTable['output_type'] = 'display_data';\n",
              "          await google.colab.output.renderOutput(dataTable, element);\n",
              "          const docLink = document.createElement('div');\n",
              "          docLink.innerHTML = docLinkHtml;\n",
              "          element.appendChild(docLink);\n",
              "        }\n",
              "      </script>\n",
              "    </div>\n",
              "  </div>\n",
              "  "
            ]
          },
          "metadata": {},
          "execution_count": 40
        }
      ],
      "source": [
        "df.groupby('Gender').mean()"
      ]
    },
    {
      "cell_type": "markdown",
      "id": "07af4eb4",
      "metadata": {
        "id": "07af4eb4"
      },
      "source": [
        "# K-Means Clustering with Scikit-Learn\n",
        "\n",
        "K-means clustering is a type of unsupervised learning, which is used when you have unlabeled data (i.e., data without defined categories or groups). The goal of this algorithm is to find groups in the data, with the number of groups represented by the variable K. The algorithm works iteratively to assign each data point to one of K groups based on the features that are provided. Data points are clustered based on feature similarity. The results of the K-means clustering algorithm are:\n",
        "\n",
        "The centroids of the K clusters, which can be used to label new data Labels for the training data (each data point is assigned to a single cluster)\n",
        "\n",
        "For this particular algorithm to work, the number of clusters has to be defined beforehand. The K in the K-means refers to the number of clusters.\n",
        "\n",
        "The K-means algorithm starts by randomly choosing a centroid value for each cluster. After that the algorithm iteratively performs three steps:\n",
        "\n",
        "(i) Find the Euclidean distance between each data instance and centroids of all the clusters;\n",
        "\n",
        "(ii) Assign the data instances to the cluster of the centroid with nearest distance;\n",
        "\n",
        "(iii) Calculate new centroid values based on the mean values of the coordinates of all the data instances from the corresponding cluster.\n",
        "\n",
        "# A Simple Example\n",
        "\n",
        "Let's try to see how the K-means algorithm works with the help of a handcrafted example, before implementing the algorithm in Scikit-Learn.\n",
        "\n",
        "We have a set of the following two dimensional data instances named D."
      ]
    },
    {
      "cell_type": "code",
      "execution_count": 41,
      "id": "5e120eb2",
      "metadata": {
        "colab": {
          "base_uri": "https://localhost:8080/"
        },
        "id": "5e120eb2",
        "outputId": "29c16fa6-ea8b-4af1-e7e1-4e6188895e83"
      },
      "outputs": [
        {
          "output_type": "execute_result",
          "data": {
            "text/plain": [
              "Index(['Gender', 'Age', 'Annual Income (k$)', 'Spending Score (1-100)'], dtype='object')"
            ]
          },
          "metadata": {},
          "execution_count": 41
        }
      ],
      "source": [
        "df.columns"
      ]
    },
    {
      "cell_type": "code",
      "execution_count": 42,
      "id": "8f17d835",
      "metadata": {
        "colab": {
          "base_uri": "https://localhost:8080/",
          "height": 206
        },
        "id": "8f17d835",
        "outputId": "5aab1670-4dd4-4d55-9a9b-56b04aa24589"
      },
      "outputs": [
        {
          "output_type": "execute_result",
          "data": {
            "text/plain": [
              "   Gender  Age  Annual Income (k$)  Spending Score (1-100)\n",
              "0    Male   19                  15                      39\n",
              "1    Male   21                  15                      81\n",
              "2  Female   20                  16                       6\n",
              "3  Female   23                  16                      77\n",
              "4  Female   31                  17                      40"
            ],
            "text/html": [
              "\n",
              "  <div id=\"df-63eed4ad-7915-478f-92b6-2f87558bf82d\">\n",
              "    <div class=\"colab-df-container\">\n",
              "      <div>\n",
              "<style scoped>\n",
              "    .dataframe tbody tr th:only-of-type {\n",
              "        vertical-align: middle;\n",
              "    }\n",
              "\n",
              "    .dataframe tbody tr th {\n",
              "        vertical-align: top;\n",
              "    }\n",
              "\n",
              "    .dataframe thead th {\n",
              "        text-align: right;\n",
              "    }\n",
              "</style>\n",
              "<table border=\"1\" class=\"dataframe\">\n",
              "  <thead>\n",
              "    <tr style=\"text-align: right;\">\n",
              "      <th></th>\n",
              "      <th>Gender</th>\n",
              "      <th>Age</th>\n",
              "      <th>Annual Income (k$)</th>\n",
              "      <th>Spending Score (1-100)</th>\n",
              "    </tr>\n",
              "  </thead>\n",
              "  <tbody>\n",
              "    <tr>\n",
              "      <th>0</th>\n",
              "      <td>Male</td>\n",
              "      <td>19</td>\n",
              "      <td>15</td>\n",
              "      <td>39</td>\n",
              "    </tr>\n",
              "    <tr>\n",
              "      <th>1</th>\n",
              "      <td>Male</td>\n",
              "      <td>21</td>\n",
              "      <td>15</td>\n",
              "      <td>81</td>\n",
              "    </tr>\n",
              "    <tr>\n",
              "      <th>2</th>\n",
              "      <td>Female</td>\n",
              "      <td>20</td>\n",
              "      <td>16</td>\n",
              "      <td>6</td>\n",
              "    </tr>\n",
              "    <tr>\n",
              "      <th>3</th>\n",
              "      <td>Female</td>\n",
              "      <td>23</td>\n",
              "      <td>16</td>\n",
              "      <td>77</td>\n",
              "    </tr>\n",
              "    <tr>\n",
              "      <th>4</th>\n",
              "      <td>Female</td>\n",
              "      <td>31</td>\n",
              "      <td>17</td>\n",
              "      <td>40</td>\n",
              "    </tr>\n",
              "  </tbody>\n",
              "</table>\n",
              "</div>\n",
              "      <button class=\"colab-df-convert\" onclick=\"convertToInteractive('df-63eed4ad-7915-478f-92b6-2f87558bf82d')\"\n",
              "              title=\"Convert this dataframe to an interactive table.\"\n",
              "              style=\"display:none;\">\n",
              "        \n",
              "  <svg xmlns=\"http://www.w3.org/2000/svg\" height=\"24px\"viewBox=\"0 0 24 24\"\n",
              "       width=\"24px\">\n",
              "    <path d=\"M0 0h24v24H0V0z\" fill=\"none\"/>\n",
              "    <path d=\"M18.56 5.44l.94 2.06.94-2.06 2.06-.94-2.06-.94-.94-2.06-.94 2.06-2.06.94zm-11 1L8.5 8.5l.94-2.06 2.06-.94-2.06-.94L8.5 2.5l-.94 2.06-2.06.94zm10 10l.94 2.06.94-2.06 2.06-.94-2.06-.94-.94-2.06-.94 2.06-2.06.94z\"/><path d=\"M17.41 7.96l-1.37-1.37c-.4-.4-.92-.59-1.43-.59-.52 0-1.04.2-1.43.59L10.3 9.45l-7.72 7.72c-.78.78-.78 2.05 0 2.83L4 21.41c.39.39.9.59 1.41.59.51 0 1.02-.2 1.41-.59l7.78-7.78 2.81-2.81c.8-.78.8-2.07 0-2.86zM5.41 20L4 18.59l7.72-7.72 1.47 1.35L5.41 20z\"/>\n",
              "  </svg>\n",
              "      </button>\n",
              "      \n",
              "  <style>\n",
              "    .colab-df-container {\n",
              "      display:flex;\n",
              "      flex-wrap:wrap;\n",
              "      gap: 12px;\n",
              "    }\n",
              "\n",
              "    .colab-df-convert {\n",
              "      background-color: #E8F0FE;\n",
              "      border: none;\n",
              "      border-radius: 50%;\n",
              "      cursor: pointer;\n",
              "      display: none;\n",
              "      fill: #1967D2;\n",
              "      height: 32px;\n",
              "      padding: 0 0 0 0;\n",
              "      width: 32px;\n",
              "    }\n",
              "\n",
              "    .colab-df-convert:hover {\n",
              "      background-color: #E2EBFA;\n",
              "      box-shadow: 0px 1px 2px rgba(60, 64, 67, 0.3), 0px 1px 3px 1px rgba(60, 64, 67, 0.15);\n",
              "      fill: #174EA6;\n",
              "    }\n",
              "\n",
              "    [theme=dark] .colab-df-convert {\n",
              "      background-color: #3B4455;\n",
              "      fill: #D2E3FC;\n",
              "    }\n",
              "\n",
              "    [theme=dark] .colab-df-convert:hover {\n",
              "      background-color: #434B5C;\n",
              "      box-shadow: 0px 1px 3px 1px rgba(0, 0, 0, 0.15);\n",
              "      filter: drop-shadow(0px 1px 2px rgba(0, 0, 0, 0.3));\n",
              "      fill: #FFFFFF;\n",
              "    }\n",
              "  </style>\n",
              "\n",
              "      <script>\n",
              "        const buttonEl =\n",
              "          document.querySelector('#df-63eed4ad-7915-478f-92b6-2f87558bf82d button.colab-df-convert');\n",
              "        buttonEl.style.display =\n",
              "          google.colab.kernel.accessAllowed ? 'block' : 'none';\n",
              "\n",
              "        async function convertToInteractive(key) {\n",
              "          const element = document.querySelector('#df-63eed4ad-7915-478f-92b6-2f87558bf82d');\n",
              "          const dataTable =\n",
              "            await google.colab.kernel.invokeFunction('convertToInteractive',\n",
              "                                                     [key], {});\n",
              "          if (!dataTable) return;\n",
              "\n",
              "          const docLinkHtml = 'Like what you see? Visit the ' +\n",
              "            '<a target=\"_blank\" href=https://colab.research.google.com/notebooks/data_table.ipynb>data table notebook</a>'\n",
              "            + ' to learn more about interactive tables.';\n",
              "          element.innerHTML = '';\n",
              "          dataTable['output_type'] = 'display_data';\n",
              "          await google.colab.output.renderOutput(dataTable, element);\n",
              "          const docLink = document.createElement('div');\n",
              "          docLink.innerHTML = docLinkHtml;\n",
              "          element.appendChild(docLink);\n",
              "        }\n",
              "      </script>\n",
              "    </div>\n",
              "  </div>\n",
              "  "
            ]
          },
